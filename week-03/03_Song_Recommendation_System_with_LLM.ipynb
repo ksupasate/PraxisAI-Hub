{
  "cells": [
    {
      "cell_type": "markdown",
      "metadata": {
        "id": "MN-cwoirYJLR"
      },
      "source": [
        "## Song Recommendation System with Azure OpenAI"
      ]
    },
    {
      "cell_type": "markdown",
      "metadata": {
        "id": "vd_yMOAE_Lq3"
      },
      "source": [
        "### Prerequisite"
      ]
    },
    {
      "cell_type": "code",
      "execution_count": null,
      "metadata": {
        "id": "u3mHPf_kD2Ep"
      },
      "outputs": [],
      "source": [
        "%pip install jsonpointer\n",
        "%pip install jsonschema\n",
        "%pip install tiktoken\n",
        "%pip install openai==0.28"
      ]
    },
    {
      "cell_type": "markdown",
      "metadata": {
        "id": "9RJ4HD_WX4SC"
      },
      "source": [
        "### Configuration"
      ]
    },
    {
      "cell_type": "code",
      "execution_count": 1,
      "metadata": {
        "id": "Z7M1R8nFX7gZ"
      },
      "outputs": [],
      "source": [
        "import openai\n",
        "\n",
        "# Configure Azure OpenAI settings\n",
        "openai.api_type = \"azure\"\n",
        "openai.api_base = \"https://{your_resource}.openai.azure.com/\" # Replace with your Endpoint url\n",
        "openai.api_version = \"2023-09-15-preview\" # Replave with your version use\n",
        "openai.api_key = \"{your_API_key}\"  # Replace with your API key"
      ]
    },
    {
      "cell_type": "markdown",
      "metadata": {
        "id": "VHT-eqrgYD4P"
      },
      "source": [
        "### Generate Song Recommendations"
      ]
    },
    {
      "cell_type": "code",
      "execution_count": 9,
      "metadata": {
        "id": "bHL2pK91NK5p"
      },
      "outputs": [],
      "source": [
        "def generate_song_recommendations(user_song_list):\n",
        "    \"\"\"\n",
        "    Generate song recommendations based on a list of songs provided by the user.\n",
        "    \"\"\"\n",
        "    prompt = f\"Based on the user's interest in these songs: {', '.join(user_song_list)}, recommend five similar songs:\"\n",
        "\n",
        "    try:\n",
        "        response = openai.Completion.create(\n",
        "            engine=\"song-recommend\",\n",
        "            prompt=prompt,\n",
        "            temperature=0.7,\n",
        "            max_tokens=300,\n",
        "            top_p=1,\n",
        "            frequency_penalty=0,\n",
        "            presence_penalty=0,\n",
        "            stop=[\"\\n\"]\n",
        "        )\n",
        "        return response.choices[0].text.strip()\n",
        "    except Exception as e:\n",
        "        return str(e)"
      ]
    },
    {
      "cell_type": "code",
      "execution_count": 3,
      "metadata": {
        "colab": {
          "base_uri": "https://localhost:8080/"
        },
        "id": "Kn_NeWJ5YPCV",
        "outputId": "19256734-ad74-475d-bb88-f688af467b5f"
      },
      "outputs": [
        {
          "name": "stdout",
          "output_type": "stream",
          "text": [
            "Enter song #1: Robber by The 1975\n",
            "Enter song #2: I Always Wanna Die (Sometimes) by The 1975\n",
            "Enter song #3: About you by The 1975\n",
            "Recommended Songs: Somebody Else by The 1975, If You're Too Shy (Let Me Know) by The 1975, A Change Of Heart by The 1975, Love It If We Made It by The 1975, It's Not Living (If It's Not With You) by The 1975.\n"
          ]
        }
      ],
      "source": [
        "# Example Usage\n",
        "user_song_list = [input(f\"Enter song #{i+1}: \") for i in range(3)]\n",
        "recommendations = generate_song_recommendations(user_song_list)\n",
        "print(\"Recommended Songs:\", recommendations)"
      ]
    },
    {
      "cell_type": "markdown",
      "metadata": {
        "id": "N3qryBcbZNC_"
      },
      "source": [
        "## Song Recommendation System with Gemeni Pro"
      ]
    },
    {
      "cell_type": "markdown",
      "metadata": {
        "id": "1ZEPrj4MZdiX"
      },
      "source": [
        "### Prerequisite\n",
        "\n",
        "Google AI Studio API\n",
        "source: https://makersuite.google.com/app/apikey"
      ]
    },
    {
      "cell_type": "code",
      "execution_count": 11,
      "metadata": {
        "id": "Vj9eA1qOZOuc"
      },
      "outputs": [],
      "source": [
        "%pip install -q -U google-generativeai"
      ]
    },
    {
      "cell_type": "code",
      "execution_count": 17,
      "metadata": {
        "id": "b1NhE7f-ZYwq"
      },
      "outputs": [],
      "source": [
        "import pathlib\n",
        "import textwrap\n",
        "\n",
        "import google.generativeai as genai\n",
        "\n",
        "# Used to securely store your API key\n",
        "from google.colab import userdata"
      ]
    },
    {
      "cell_type": "markdown",
      "metadata": {
        "id": "6rfwJyNFZ7d9"
      },
      "source": [
        "### Configuration"
      ]
    },
    {
      "cell_type": "code",
      "execution_count": 18,
      "metadata": {
        "id": "A3d5jD2hZomr"
      },
      "outputs": [],
      "source": [
        "GOOGLE_API_KEY=userdata.get('GOOGLE_API_KEY')\n",
        "\n",
        "genai.configure(api_key=GOOGLE_API_KEY)"
      ]
    },
    {
      "cell_type": "code",
      "execution_count": 19,
      "metadata": {
        "colab": {
          "base_uri": "https://localhost:8080/",
          "height": 52
        },
        "id": "5mR3dVssZtFr",
        "outputId": "361e45da-4b67-4ba2-bd03-4345a9855e08"
      },
      "outputs": [
        {
          "name": "stdout",
          "output_type": "stream",
          "text": [
            "models/gemini-pro\n",
            "models/gemini-pro-vision\n"
          ]
        }
      ],
      "source": [
        "for m in genai.list_models():\n",
        "    if 'generateContent' in m.supported_generation_methods:\n",
        "      print(m.name)"
      ]
    },
    {
      "cell_type": "code",
      "execution_count": 20,
      "metadata": {
        "colab": {
          "base_uri": "https://localhost:8080/",
          "height": 225
        },
        "id": "0ul-0onaZwHT",
        "outputId": "c9147043-6938-401b-acf7-dd5479995ac0"
      },
      "outputs": [
        {
          "name": "stdout",
          "output_type": "stream",
          "text": [
            "Model(name='models/gemini-pro',\n",
            "      base_model_id='',\n",
            "      version='001',\n",
            "      display_name='Gemini Pro',\n",
            "      description='The best model for scaling across a wide range of tasks',\n",
            "      input_token_limit=30720,\n",
            "      output_token_limit=2048,\n",
            "      supported_generation_methods=['generateContent', 'countTokens'],\n",
            "      temperature=0.9,\n",
            "      top_p=1.0,\n",
            "      top_k=1) \n",
            "\n"
          ]
        }
      ],
      "source": [
        "model = genai.GenerativeModel(model_name=\"gemini-pro\")\n",
        "\n",
        "print(genai.get_model('models/gemini-pro'),'\\n')"
      ]
    },
    {
      "cell_type": "markdown",
      "metadata": {
        "id": "sDT3TcM5adrs"
      },
      "source": [
        "### Generate Song Recommendations"
      ]
    },
    {
      "cell_type": "code",
      "execution_count": 26,
      "metadata": {
        "colab": {
          "base_uri": "https://localhost:8080/"
        },
        "id": "OVIhTjrmaAug",
        "outputId": "9f1ee64f-75b8-41da-c721-9e708ff73d57"
      },
      "outputs": [
        {
          "name": "stdout",
          "output_type": "stream",
          "text": [
            "Enter song #1: Somebody Else by The 1975\n",
            "Enter song #2: If You're Too Shy (Let Me Know) by The 1975\n",
            "Enter song #3: A Change Of Heart by The 1975\n"
          ]
        }
      ],
      "source": [
        "user_song_list = [input(f\"Enter song #{i+1}: \") for i in range(3)]\n",
        "prompt = f\"Based on the user's interest in these songs: {', '.join(user_song_list)}, recommend five similar songs:\""
      ]
    },
    {
      "cell_type": "code",
      "execution_count": 27,
      "metadata": {
        "colab": {
          "base_uri": "https://localhost:8080/",
          "height": 104
        },
        "id": "ehGydKGxaJqI",
        "outputId": "5738006e-e805-4ee8-d36e-e96f8dee0c79"
      },
      "outputs": [
        {
          "name": "stdout",
          "output_type": "stream",
          "text": [
            "Recommended Songs: 1. \"Me & You Together Song\" by The 1975\n",
            "2. \"Fallingforyou\" by The 1975\n",
            "3. \"Robbers\" by The 1975\n",
            "4. \"Love Me\" by The 1975\n",
            "5. \"The Sound\" by The 1975\n"
          ]
        }
      ],
      "source": [
        "response = model.generate_content([prompt])\n",
        "print(\"Recommended Songs:\",response.text)"
      ]
    }
  ],
  "metadata": {
    "colab": {
      "provenance": []
    },
    "kernelspec": {
      "display_name": "Python 3",
      "name": "python3"
    },
    "language_info": {
      "name": "python"
    }
  },
  "nbformat": 4,
  "nbformat_minor": 0
}
